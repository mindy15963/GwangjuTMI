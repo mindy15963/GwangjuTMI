version https://git-lfs.github.com/spec/v1
oid sha256:51f6082242d0d80b148d0ed4e1621d9b1cb03fe5f54031de6c093f03a0d9227e
size 60233
