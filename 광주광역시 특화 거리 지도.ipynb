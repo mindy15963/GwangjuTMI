version https://git-lfs.github.com/spec/v1
oid sha256:d3a3fd4cbf8a1cd53181b567ef404079f638cc836b7be322d7a4b379d8109f8f
size 57297
