version https://git-lfs.github.com/spec/v1
oid sha256:1e1b1002fcc41ebe6029a2e830adac50b7dfe1d098c058124ca5acd9bc5618dd
size 282800
